{
 "cells": [
  {
   "cell_type": "code",
   "execution_count": 1,
   "metadata": {},
   "outputs": [
    {
     "name": "stdout",
     "output_type": "stream",
     "text": [
      "ok\n"
     ]
    }
   ],
   "source": [
    "print(\"ok\")"
   ]
  },
  {
   "cell_type": "code",
   "execution_count": 2,
   "metadata": {},
   "outputs": [],
   "source": [
    "from ultralytics import YOLO\n",
    "import cv2\n",
    "\n",
    "class ObjectDetector:\n",
    "    def __init__(self, model_name='yolov8n.pt'):\n",
    "        self.model = YOLO(model_name)\n",
    "\n",
    "    def detect(self, frame):\n",
    "        results = self.model(frame)[0]\n",
    "        detections = []\n",
    "        for r in results.boxes:\n",
    "            x1, y1, x2, y2 = map(int, r.xyxy[0])\n",
    "            conf = float(r.conf)\n",
    "            cls = int(r.cls)\n",
    "            label = self.model.names[cls]\n",
    "            detections.append({\n",
    "                'bbox': [x1, y1, x2 - x1, y2 - y1],\n",
    "                'confidence': conf,\n",
    "                'class': label\n",
    "            })\n",
    "        return detections\n"
   ]
  },
  {
   "cell_type": "code",
   "execution_count": 3,
   "metadata": {},
   "outputs": [],
   "source": [
    "# tracker.py\n",
    "from deep_sort_realtime.deepsort_tracker import DeepSort\n",
    "\n",
    "class ObjectTracker:\n",
    "    def __init__(self):\n",
    "        self.tracker = DeepSort(max_age=30)  # adjust for how long to remember\n",
    "\n",
    "    def update(self, detections):\n",
    "        track_inputs = [\n",
    "            (det['bbox'], det['confidence'], det['class']) for det in detections\n",
    "        ]\n",
    "        tracks = self.tracker.update_tracks(track_inputs, frame=None)\n",
    "        tracked = []\n",
    "        for track in tracks:\n",
    "            if not track.is_confirmed():\n",
    "                continue\n",
    "            bbox = track.to_ltrb()  # [x1, y1, x2, y2]\n",
    "            tracked.append({\n",
    "                'track_id': track.track_id,\n",
    "                'bbox': bbox,\n",
    "                'class': track.get_class()\n",
    "            })\n",
    "        return tracked\n"
   ]
  },
  {
   "cell_type": "code",
   "execution_count": 4,
   "metadata": {},
   "outputs": [],
   "source": [
    "class SceneManager:\n",
    "    def __init__(self):\n",
    "        self.known_ids = set()\n",
    "\n",
    "    def analyze(self, tracked_objects):\n",
    "        current_ids = set(obj['track_id'] for obj in tracked_objects)\n",
    "        new_objects = current_ids - self.known_ids\n",
    "        missing_objects = self.known_ids - current_ids\n",
    "        self.known_ids = current_ids\n",
    "\n",
    "        return list(new_objects), list(missing_objects)\n"
   ]
  },
  {
   "cell_type": "code",
   "execution_count": 5,
   "metadata": {},
   "outputs": [],
   "source": [
    "import cv2\n",
    "import time\n",
    "\n"
   ]
  },
  {
   "cell_type": "code",
   "execution_count": 7,
   "metadata": {},
   "outputs": [
    {
     "name": "stdout",
     "output_type": "stream",
     "text": [
      "Error: Could not open webcam.\n"
     ]
    }
   ],
   "source": [
    "class ObjectDetectionPipeline:\n",
    "    def __init__(self):\n",
    "        self.detector = ObjectDetector()\n",
    "        self.tracker = ObjectTracker()\n",
    "        self.scene_manager = SceneManager()\n",
    "\n",
    "    def run(self):\n",
    "        cap = cv2.VideoCapture(4747)  # Webcam\n",
    "        if not cap.isOpened():\n",
    "            print(\"Error: Could not open webcam.\")\n",
    "            return\n",
    "\n",
    "        output_fps = []\n",
    "        while True:\n",
    "            start_time = time.time()\n",
    "            ret, frame = cap.read()\n",
    "            if not ret:\n",
    "                break\n",
    "\n",
    "            detections = self.detector.detect(frame)\n",
    "            tracked_objects = self.tracker.update(detections)\n",
    "            missing_ids, new_ids = self.scene_manager.update(tracked_objects)\n",
    "\n",
    "            for obj in tracked_objects:\n",
    "                x, y, w, h = obj['bbox']\n",
    "                label = f\"{obj['class']} {obj['id']}\"\n",
    "                color = (0, 255, 0)\n",
    "                if obj['id'] in new_ids:\n",
    "                    label += \" (New)\"\n",
    "                    color = (255, 0, 0)\n",
    "                elif obj['id'] in missing_ids:\n",
    "                    label += \" (Missing)\"\n",
    "                    color = (0, 0, 255)\n",
    "                cv2.rectangle(frame, (x, y), (x + w, y + h), color, 2)\n",
    "                cv2.putText(frame, label, (x, y - 10), cv2.FONT_HERSHEY_SIMPLEX, 0.5, color, 2)\n",
    "\n",
    "            # Calculate FPS\n",
    "            end_time = time.time()\n",
    "            fps = 1 / (end_time - start_time)\n",
    "            output_fps.append(fps)\n",
    "            cv2.putText(frame, f\"FPS: {fps:.2f}\", (10, 30), cv2.FONT_HERSHEY_SIMPLEX, 0.7, (0, 255, 255), 2)\n",
    "\n",
    "            cv2.imshow(\"Object Detection\", frame)\n",
    "            if cv2.waitKey(1) & 0xFF == ord('q'):\n",
    "                break\n",
    "\n",
    "        cap.release()\n",
    "        cv2.destroyAllWindows()\n",
    "\n",
    "        avg_fps = sum(output_fps) / len(output_fps)\n",
    "        print(f\"Average FPS: {avg_fps:.2f}\")\n",
    "\n",
    "if __name__ == '__main__':\n",
    "    pipeline = ObjectDetectionPipeline()\n",
    "    pipeline.run()"
   ]
  },
  {
   "cell_type": "code",
   "execution_count": null,
   "metadata": {},
   "outputs": [],
   "source": []
  }
 ],
 "metadata": {
  "kernelspec": {
   "display_name": "Python 3",
   "language": "python",
   "name": "python3"
  },
  "language_info": {
   "codemirror_mode": {
    "name": "ipython",
    "version": 3
   },
   "file_extension": ".py",
   "mimetype": "text/x-python",
   "name": "python",
   "nbconvert_exporter": "python",
   "pygments_lexer": "ipython3",
   "version": "3.10.16"
  }
 },
 "nbformat": 4,
 "nbformat_minor": 2
}
